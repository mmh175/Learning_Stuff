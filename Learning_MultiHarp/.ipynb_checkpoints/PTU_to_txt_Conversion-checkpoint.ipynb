{
 "cells": [
  {
   "cell_type": "markdown",
   "id": "8b86929a-31b2-4f6c-b1bd-e0563f44ac18",
   "metadata": {},
   "source": [
    "## About .ptu Format\n",
    "\n",
    "A .ptu file is a binary data format used by PicoQuant time-tagging devices to store photon detection events with high temporal resolution. It typically contains metadata (like configuration and hardware info) and time-tagged photon event records, used in time-correlated single photon counting (TCSPC) and quantum optics experiments.\n",
    "\n",
    "__PyPTU__ is a Python package and command-line tool developed by __Mike Rye__ for parsing PicoQuant PTU files, which are used in time-correlated single photon counting (TCSPC) experiments. It efficiently extracts photon, marker, and overflow data into Pandas DataFrames, and can export this data to JSON and CSV formats for further analysis. This tool reads PicoQuant PTU files using the same parsing approach as PicoQuant’s Python demo, but achieves up to __40×__ faster performance by leveraging NumPy’s vectorized operations.\n",
    "\n",
    "Link: `https://gitlab.inria.fr/jrye/pyptu`\n",
    "\n",
    "I am going to install the package and modify the .ptu file for convenient vector operation in this project.\n",
    "\n",
    "## Install:\n",
    "\n",
    "`pip install pyptu`"
   ]
  },
  {
   "cell_type": "code",
   "execution_count": 1,
   "id": "fa061f76-fd20-4f5c-afff-ee3782452359",
   "metadata": {},
   "outputs": [
    {
     "name": "stdout",
     "output_type": "stream",
     "text": [
      "pyptu is installed.\n",
      "C:\\Users\\mhassa11\\AppData\\Local\\miniconda3\\envs\\intelARC\\lib\\site-packages\\pyptu\\__init__.py\n"
     ]
    }
   ],
   "source": [
    "import pyptu\n",
    "\n",
    "print(\"pyptu is installed.\")\n",
    "print(pyptu.__file__)\n"
   ]
  },
  {
   "cell_type": "markdown",
   "id": "d657e057-b879-4a05-8dad-fad40de14b4b",
   "metadata": {},
   "source": [
    "__pyptu__ is a local/private module: "
   ]
  },
  {
   "cell_type": "code",
   "execution_count": 2,
   "id": "ec09c20a-42c2-444e-86e5-1befa1dd09c3",
   "metadata": {},
   "outputs": [
    {
     "name": "stdout",
     "output_type": "stream",
     "text": [
      "pyptu version: dev-local\n"
     ]
    }
   ],
   "source": [
    "pyptu.__version__ = \"dev-local\"\n",
    "print(\"pyptu version:\", pyptu.__version__)"
   ]
  },
  {
   "cell_type": "markdown",
   "id": "c4bf9843-91d2-47d3-9dd4-ee94c2da7bd5",
   "metadata": {},
   "source": [
    "So, to see the version, we'll use metadata library in the format:\n",
    "\n",
    "`print(md.version(\"__package_name__\"))\n",
    "`"
   ]
  },
  {
   "cell_type": "code",
   "execution_count": 5,
   "id": "1c53c90e-e690-4ec9-952f-72629d2d95c6",
   "metadata": {},
   "outputs": [
    {
     "name": "stdout",
     "output_type": "stream",
     "text": [
      "2024.2\n"
     ]
    }
   ],
   "source": [
    "import importlib.metadata as md\n",
    "print(md.version(\"pyptu\"))"
   ]
  },
  {
   "cell_type": "markdown",
   "id": "471b9a70-db0e-4ed8-ac37-cf4d3653023f",
   "metadata": {},
   "source": [
    "# Using PyPTU for data conversion"
   ]
  },
  {
   "cell_type": "code",
   "execution_count": 8,
   "id": "5774f37f-3020-45cd-b464-ec226c16cb48",
   "metadata": {},
   "outputs": [
    {
     "name": "stdout",
     "output_type": "stream",
     "text": [
      "File size        \t 779.35 MB\n",
      "Conversion time  \t 33.074 sec\n"
     ]
    },
    {
     "data": {
      "text/html": [
       "<div>\n",
       "<style scoped>\n",
       "    .dataframe tbody tr th:only-of-type {\n",
       "        vertical-align: middle;\n",
       "    }\n",
       "\n",
       "    .dataframe tbody tr th {\n",
       "        vertical-align: top;\n",
       "    }\n",
       "\n",
       "    .dataframe thead th {\n",
       "        text-align: right;\n",
       "    }\n",
       "</style>\n",
       "<table border=\"1\" class=\"dataframe\">\n",
       "  <thead>\n",
       "    <tr style=\"text-align: right;\">\n",
       "      <th></th>\n",
       "      <th>Record Index</th>\n",
       "      <th>Channel</th>\n",
       "      <th>Time Tag</th>\n",
       "      <th>Resolved Time Tag</th>\n",
       "      <th>Dtime</th>\n",
       "    </tr>\n",
       "  </thead>\n",
       "  <tbody>\n",
       "    <tr>\n",
       "      <th>0</th>\n",
       "      <td>0</td>\n",
       "      <td>3</td>\n",
       "      <td>28191</td>\n",
       "      <td>140955.0</td>\n",
       "      <td>0</td>\n",
       "    </tr>\n",
       "    <tr>\n",
       "      <th>1</th>\n",
       "      <td>1</td>\n",
       "      <td>0</td>\n",
       "      <td>36653</td>\n",
       "      <td>183265.0</td>\n",
       "      <td>0</td>\n",
       "    </tr>\n",
       "    <tr>\n",
       "      <th>2</th>\n",
       "      <td>2</td>\n",
       "      <td>4</td>\n",
       "      <td>41872</td>\n",
       "      <td>209360.0</td>\n",
       "      <td>0</td>\n",
       "    </tr>\n",
       "    <tr>\n",
       "      <th>3</th>\n",
       "      <td>3</td>\n",
       "      <td>2</td>\n",
       "      <td>42471</td>\n",
       "      <td>212355.0</td>\n",
       "      <td>0</td>\n",
       "    </tr>\n",
       "    <tr>\n",
       "      <th>4</th>\n",
       "      <td>4</td>\n",
       "      <td>2</td>\n",
       "      <td>438737</td>\n",
       "      <td>2193685.0</td>\n",
       "      <td>0</td>\n",
       "    </tr>\n",
       "    <tr>\n",
       "      <th>5</th>\n",
       "      <td>5</td>\n",
       "      <td>4</td>\n",
       "      <td>451327</td>\n",
       "      <td>2256635.0</td>\n",
       "      <td>0</td>\n",
       "    </tr>\n",
       "    <tr>\n",
       "      <th>6</th>\n",
       "      <td>6</td>\n",
       "      <td>0</td>\n",
       "      <td>559075</td>\n",
       "      <td>2795375.0</td>\n",
       "      <td>0</td>\n",
       "    </tr>\n",
       "    <tr>\n",
       "      <th>7</th>\n",
       "      <td>7</td>\n",
       "      <td>0</td>\n",
       "      <td>577964</td>\n",
       "      <td>2889820.0</td>\n",
       "      <td>0</td>\n",
       "    </tr>\n",
       "    <tr>\n",
       "      <th>8</th>\n",
       "      <td>8</td>\n",
       "      <td>3</td>\n",
       "      <td>579264</td>\n",
       "      <td>2896320.0</td>\n",
       "      <td>0</td>\n",
       "    </tr>\n",
       "    <tr>\n",
       "      <th>9</th>\n",
       "      <td>9</td>\n",
       "      <td>2</td>\n",
       "      <td>603304</td>\n",
       "      <td>3016520.0</td>\n",
       "      <td>0</td>\n",
       "    </tr>\n",
       "  </tbody>\n",
       "</table>\n",
       "</div>"
      ],
      "text/plain": [
       "   Record Index  Channel  Time Tag  Resolved Time Tag  Dtime\n",
       "0             0        3     28191           140955.0      0\n",
       "1             1        0     36653           183265.0      0\n",
       "2             2        4     41872           209360.0      0\n",
       "3             3        2     42471           212355.0      0\n",
       "4             4        2    438737          2193685.0      0\n",
       "5             5        4    451327          2256635.0      0\n",
       "6             6        0    559075          2795375.0      0\n",
       "7             7        0    577964          2889820.0      0\n",
       "8             8        3    579264          2896320.0      0\n",
       "9             9        2    603304          3016520.0      0"
      ]
     },
     "execution_count": 8,
     "metadata": {},
     "output_type": "execute_result"
    }
   ],
   "source": [
    "\n",
    "import os\n",
    "import time\n",
    "import json\n",
    "import pandas as pd\n",
    "from pyptu import PTUParser\n",
    "\n",
    "\n",
    "start_0 = time.time()\n",
    "#------------------------------------------------------------------------------------------#\n",
    "PC          = os.getlogin()\n",
    "input_file  = fr'C:\\Users\\{PC}\\Documents\\JupyterNotebook\\Summer_25\\UTC\\raw_10s_run.ptu'\n",
    "output_file = fr'C:\\Users\\{PC}\\Documents\\JupyterNotebook\\Summer_25\\UTC\\ptu_to_txt.dat'\n",
    "\n",
    "parser = PTUParser(input_file)\n",
    "parser.load()\n",
    "\n",
    "parser.photons.to_csv(output_file, sep=\"\\t\", index=False)\n",
    "#------------------------------------------------------------------------------------------#\n",
    "end_0   = time.time()\n",
    "\n",
    "file_size_bytes = os.path.getsize(output_file)\n",
    "file_size_MB    = file_size_bytes / (1024 * 1024)\n",
    "\n",
    "print(f\"File size        \\t {file_size_MB:.2f} MB\")\n",
    "print(f\"Conversion time  \\t {end_0 - start_0:.3f} sec\")\n",
    "\n",
    "# Preview output\n",
    "df = pd.read_csv(output_file, sep=\"\\t\", nrows=20)\n",
    "df.head(10)\n"
   ]
  },
  {
   "cell_type": "markdown",
   "id": "e3e9d11c-faf4-4a5a-be28-cbf7f5c967b0",
   "metadata": {},
   "source": [
    "#### Let's see if we can make the procedure faster by keeping only necessary columns"
   ]
  },
  {
   "cell_type": "code",
   "execution_count": 10,
   "id": "bbec203a-34a7-493f-92c3-3c2937463a60",
   "metadata": {},
   "outputs": [
    {
     "name": "stdout",
     "output_type": "stream",
     "text": [
      "File size        \t 299.76 MB\n",
      "Conversion time  \t 11.110 sec\n"
     ]
    },
    {
     "data": {
      "text/html": [
       "<div>\n",
       "<style scoped>\n",
       "    .dataframe tbody tr th:only-of-type {\n",
       "        vertical-align: middle;\n",
       "    }\n",
       "\n",
       "    .dataframe tbody tr th {\n",
       "        vertical-align: top;\n",
       "    }\n",
       "\n",
       "    .dataframe thead th {\n",
       "        text-align: right;\n",
       "    }\n",
       "</style>\n",
       "<table border=\"1\" class=\"dataframe\">\n",
       "  <thead>\n",
       "    <tr style=\"text-align: right;\">\n",
       "      <th></th>\n",
       "      <th>Channel</th>\n",
       "      <th>Time Tag</th>\n",
       "    </tr>\n",
       "  </thead>\n",
       "  <tbody>\n",
       "    <tr>\n",
       "      <th>0</th>\n",
       "      <td>3</td>\n",
       "      <td>28191</td>\n",
       "    </tr>\n",
       "    <tr>\n",
       "      <th>1</th>\n",
       "      <td>0</td>\n",
       "      <td>36653</td>\n",
       "    </tr>\n",
       "    <tr>\n",
       "      <th>2</th>\n",
       "      <td>4</td>\n",
       "      <td>41872</td>\n",
       "    </tr>\n",
       "    <tr>\n",
       "      <th>3</th>\n",
       "      <td>2</td>\n",
       "      <td>42471</td>\n",
       "    </tr>\n",
       "    <tr>\n",
       "      <th>4</th>\n",
       "      <td>2</td>\n",
       "      <td>438737</td>\n",
       "    </tr>\n",
       "    <tr>\n",
       "      <th>5</th>\n",
       "      <td>4</td>\n",
       "      <td>451327</td>\n",
       "    </tr>\n",
       "    <tr>\n",
       "      <th>6</th>\n",
       "      <td>0</td>\n",
       "      <td>559075</td>\n",
       "    </tr>\n",
       "    <tr>\n",
       "      <th>7</th>\n",
       "      <td>0</td>\n",
       "      <td>577964</td>\n",
       "    </tr>\n",
       "    <tr>\n",
       "      <th>8</th>\n",
       "      <td>3</td>\n",
       "      <td>579264</td>\n",
       "    </tr>\n",
       "    <tr>\n",
       "      <th>9</th>\n",
       "      <td>2</td>\n",
       "      <td>603304</td>\n",
       "    </tr>\n",
       "  </tbody>\n",
       "</table>\n",
       "</div>"
      ],
      "text/plain": [
       "   Channel  Time Tag\n",
       "0        3     28191\n",
       "1        0     36653\n",
       "2        4     41872\n",
       "3        2     42471\n",
       "4        2    438737\n",
       "5        4    451327\n",
       "6        0    559075\n",
       "7        0    577964\n",
       "8        3    579264\n",
       "9        2    603304"
      ]
     },
     "execution_count": 10,
     "metadata": {},
     "output_type": "execute_result"
    }
   ],
   "source": [
    "\n",
    "import os\n",
    "import time\n",
    "import json\n",
    "import pandas as pd\n",
    "from pyptu import PTUParser\n",
    "\n",
    "\n",
    "start_1 = time.time()\n",
    "#------------------------------------------------------------------------------------------#\n",
    "PC          = os.getlogin()\n",
    "input_file  = fr'C:\\Users\\{PC}\\Documents\\JupyterNotebook\\Summer_25\\UTC\\raw_10s_run.ptu'\n",
    "output_file = fr'C:\\Users\\{PC}\\Documents\\JupyterNotebook\\Summer_25\\UTC\\ptu_to_txt_concise.dat'\n",
    "\n",
    "parser = PTUParser(input_file)\n",
    "parser.load()\n",
    "\n",
    "parser.photons[['Channel', 'Time Tag']].to_csv(output_file, sep=\"\\t\", index=False)\n",
    "#------------------------------------------------------------------------------------------#\n",
    "end_1   = time.time()\n",
    "\n",
    "file_size_bytes = os.path.getsize(output_file)\n",
    "file_size_MB    = file_size_bytes / (1024 * 1024)\n",
    "\n",
    "print(f\"File size        \\t {file_size_MB:.2f} MB\")\n",
    "print(f\"Conversion time  \\t {end_1 - start_1:.3f} sec\")\n",
    "\n",
    "# Preview output\n",
    "df = pd.read_csv(output_file, sep=\"\\t\", nrows=20)\n",
    "df.head(10)\n"
   ]
  },
  {
   "cell_type": "markdown",
   "id": "1adf64be-31c5-4d7c-a387-f67b701e174d",
   "metadata": {},
   "source": [
    "## Make Chunks for parallel processing"
   ]
  },
  {
   "cell_type": "code",
   "execution_count": 11,
   "id": "69690c5d-0755-473d-939b-4eb3b4d07bda",
   "metadata": {},
   "outputs": [
    {
     "name": "stdout",
     "output_type": "stream",
     "text": [
      "Total events: 19,114,591  →  1,911,460 rows per chunk\n"
     ]
    },
    {
     "name": "stderr",
     "output_type": "stream",
     "text": [
      "Writing chunks: 100%|████████████████████████████████████████████████████████████████| 10/10 [00:00<00:00, 1208.80it/s]\n"
     ]
    },
    {
     "name": "stdout",
     "output_type": "stream",
     "text": [
      "Done in 3.887 s → files in C:\\Users\\mhassa11\\Documents\\JupyterNotebook\\Summer_25\\UTC\\chunks\n"
     ]
    }
   ],
   "source": [
    "\n",
    "import os, time\n",
    "import pandas as pd\n",
    "from pyptu import PTUParser\n",
    "from joblib import Parallel, delayed\n",
    "from tqdm import tqdm\n",
    "\n",
    "# ─────────────────────────────── user paths ───────────────────────────────────\n",
    "PC          = os.getlogin()\n",
    "base_dir    = fr\"C:\\Users\\{PC}\\Documents\\JupyterNotebook\\Summer_25\\UTC\"\n",
    "in_file     = os.path.join(base_dir, \"raw_10s_run.ptu\")\n",
    "out_dir     = os.path.join(base_dir, \"chunks\")          # → …\\chunks\\chunk_01.txt …\n",
    "os.makedirs(out_dir, exist_ok=True)\n",
    "\n",
    "\n",
    "start_0 = time.time()\n",
    "#─────────────────────────────────────────────────────────────────────────────────────────────────────────#\n",
    "parser = PTUParser(in_file)\n",
    "parser.load()\n",
    "\n",
    "df = parser.photons[[\"Channel\", \"Time Tag\"]]            # keep only the 2 columns\n",
    "n_events  = len(df)\n",
    "N_chunks  = 10\n",
    "chunk_sz  = chunk_sz = -(-n_events // N_chunks)\n",
    "print(f\"Total events: {n_events:,}  →  {chunk_sz:,} rows per chunk\")\n",
    "\n",
    "def save_chunk(idx: int):\n",
    "    \"\"\"Write chunk idx (0-based) to <out_dir>/chunk_XX.txt\"\"\"\n",
    "    start = idx * chunk_sz\n",
    "    end   = min((idx + 1) * chunk_sz, n_events)\n",
    "    out   = os.path.join(out_dir, f\"chunk_{idx + 1:02d}.txt\")\n",
    "    df.iloc[start:end].to_csv(out, sep=\"\\t\", index=False)\n",
    "\n",
    "Parallel(n_jobs=-1)( delayed(save_chunk)(i) for i in tqdm(range(N_chunks), desc=\"Writing chunks\") )\n",
    "#─────────────────────────────────────────────────────────────────────────────────────────────────────────#\n",
    "stop_0  = time.time()\n",
    "\n",
    "print(f\"Done in {stop_0 - start_0:.3f} s → files in {out_dir}\")\n"
   ]
  },
  {
   "cell_type": "code",
   "execution_count": null,
   "id": "e8815162-1fd7-4d76-8292-098a90e2bef1",
   "metadata": {},
   "outputs": [],
   "source": []
  },
  {
   "cell_type": "code",
   "execution_count": null,
   "id": "20083d32-cd8a-4f5a-a24a-39937dd96f4a",
   "metadata": {},
   "outputs": [],
   "source": []
  },
  {
   "cell_type": "code",
   "execution_count": null,
   "id": "87892e2d-97cc-4dc7-9298-5b70a1dcb86a",
   "metadata": {},
   "outputs": [],
   "source": []
  },
  {
   "cell_type": "code",
   "execution_count": null,
   "id": "075e45ec-8338-4529-bca4-1bc48b490e9c",
   "metadata": {},
   "outputs": [],
   "source": []
  },
  {
   "cell_type": "code",
   "execution_count": null,
   "id": "1f7c51d3-4a4f-46f3-8bfa-a78e52692234",
   "metadata": {},
   "outputs": [],
   "source": []
  },
  {
   "cell_type": "code",
   "execution_count": null,
   "id": "04235a8d-522b-4c9c-8396-eb8eacee8c06",
   "metadata": {},
   "outputs": [],
   "source": []
  },
  {
   "cell_type": "code",
   "execution_count": null,
   "id": "b3f8e20a-f2fa-4dc9-a88e-4f11dedbd78a",
   "metadata": {},
   "outputs": [],
   "source": []
  },
  {
   "cell_type": "code",
   "execution_count": null,
   "id": "8ff36231-dadb-4b6d-941b-63d12b2199ba",
   "metadata": {},
   "outputs": [],
   "source": []
  },
  {
   "cell_type": "code",
   "execution_count": null,
   "id": "28e53586-363c-4089-be31-d4407a92f940",
   "metadata": {},
   "outputs": [],
   "source": []
  },
  {
   "cell_type": "code",
   "execution_count": null,
   "id": "f610dc7f-7d73-41ae-bab8-fd4d82528f6c",
   "metadata": {},
   "outputs": [],
   "source": []
  },
  {
   "cell_type": "code",
   "execution_count": null,
   "id": "4e067de6-c524-4faa-9361-4adc49fa580f",
   "metadata": {},
   "outputs": [],
   "source": []
  },
  {
   "cell_type": "code",
   "execution_count": null,
   "id": "7b0297af-b3ec-4a02-8bbf-357069e2d2cd",
   "metadata": {},
   "outputs": [],
   "source": []
  },
  {
   "cell_type": "code",
   "execution_count": null,
   "id": "8e316f76-e262-44e5-a6b8-9d6b805c6941",
   "metadata": {},
   "outputs": [],
   "source": []
  },
  {
   "cell_type": "code",
   "execution_count": null,
   "id": "186d142d-25da-46de-b6c6-ecc0ae6f0739",
   "metadata": {},
   "outputs": [],
   "source": []
  },
  {
   "cell_type": "code",
   "execution_count": null,
   "id": "6bb6d123-8036-4dbe-85ca-55f037e19f63",
   "metadata": {},
   "outputs": [],
   "source": []
  },
  {
   "cell_type": "code",
   "execution_count": null,
   "id": "5f8c071a-fff4-427d-96c9-1f1a02551f9a",
   "metadata": {},
   "outputs": [],
   "source": []
  },
  {
   "cell_type": "code",
   "execution_count": null,
   "id": "b746d937-e119-4429-a208-0bc0dfc62863",
   "metadata": {},
   "outputs": [],
   "source": []
  },
  {
   "cell_type": "code",
   "execution_count": null,
   "id": "977cbae8-db84-4ecc-9bf9-4584a2126ac1",
   "metadata": {},
   "outputs": [],
   "source": []
  },
  {
   "cell_type": "code",
   "execution_count": null,
   "id": "be4d9b58-cfec-4f93-a999-e666b3786fef",
   "metadata": {},
   "outputs": [],
   "source": []
  },
  {
   "cell_type": "code",
   "execution_count": null,
   "id": "35fa8c7a-294b-4e17-9471-c475be2c7ba6",
   "metadata": {},
   "outputs": [],
   "source": []
  },
  {
   "cell_type": "code",
   "execution_count": null,
   "id": "1b527bd7-4db9-4aba-ae9d-08bbf60b98f7",
   "metadata": {},
   "outputs": [],
   "source": []
  }
 ],
 "metadata": {
  "kernelspec": {
   "display_name": "Python(intelARC)",
   "language": "python",
   "name": "intelarc"
  },
  "language_info": {
   "codemirror_mode": {
    "name": "ipython",
    "version": 3
   },
   "file_extension": ".py",
   "mimetype": "text/x-python",
   "name": "python",
   "nbconvert_exporter": "python",
   "pygments_lexer": "ipython3",
   "version": "3.10.16"
  }
 },
 "nbformat": 4,
 "nbformat_minor": 5
}
