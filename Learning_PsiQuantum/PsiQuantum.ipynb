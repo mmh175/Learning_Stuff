{
 "cells": [
  {
   "cell_type": "markdown",
   "id": "13462fcc-b8e8-42af-856d-465ff9571b47",
   "metadata": {},
   "source": [
    "### Scalable Quantum Computer\n",
    "\n",
    "In quantum computing, scalability is somewhat related to modularity. </br>\n",
    "In classical computing, scalability refers to the ability to add more hardware to enhance performance. </br>\n",
    "In quantum computing, scalability means i) adding qubits ii) maintaining coherence iii) minimizing noise/errors in quantum state to enhance performance.\n",
    "\n",
    "Adding another ssd or ram will enhance performance in classical computing. But in quantum realm, adding more qubits does not guarantee increase in performance. So, to be a `Scalable Quantum Computer`, one needs to take care other factors as well.\n",
    "\n",
    "\n"
   ]
  },
  {
   "cell_type": "markdown",
   "id": "7f1661e3-e8f5-4c3d-9ada-7d9864a4129f",
   "metadata": {},
   "source": [
    "### Fault Tolerant Quantum Computer\n",
    "\n",
    "A fault-tolerant quantum computer is a type of quantum computer designed to perform accurate calculations even when some quantum bits (qubits) experience errors or noise. This is achieved by using error-correcting codes that detect and correct errors without disrupting the quantum computation.\n",
    "\n",
    "In practice, fault-tolerant quantum computers need to use a lot more qubits than usual to handle error-checking and correction, making them strong enough to withstand the common error rates in today’s quantum systems."
   ]
  },
  {
   "cell_type": "markdown",
   "id": "96d3d8ab-d5d1-431d-bbdc-a6f85541daf5",
   "metadata": {},
   "source": [
    "## [Quantum Computing: The Circuit Model vs. The One-Way Quantum Computer](https://medium.com/@anastasiya.khromova17/quantum-computing-the-circuit-model-vs-the-one-way-quantum-computer-b2831ae1c976#:~:text=If%20you%20use%20the%20unitary,or%20cluster%20state%20quantum%20computation)\n",
    "\n",
    "The way we usually treat the evolution of a quantum system is the __unitary evolution__ which is deterministic and reversible. But there is also __projective evolution__ which is probabilistic and irreversible. \n",
    "\n",
    "Unitary evolution/transformation $\\rightarrow$ _Circuit Model_ </br>\n",
    "Projective evolution/measurement $\\rightarrow$ _One-way Model_ </br>\n",
    "\n",
    "\n"
   ]
  },
  {
   "cell_type": "markdown",
   "id": "6bfdf1c2-6fd5-4c3b-81ce-c281d67de019",
   "metadata": {},
   "source": [
    "### Measurement-Based Quantum Computer (MBQC) / One-Way Quantum Computer\n",
    "\n",
    "This is a method of __quantum computing__ that first prepares an entangled state then performs single qubit measurements on it. It is \"one-way\" because the resource state is destroyed by the measurements.\n",
    "\n",
    "Think about lattices of qubits with Ising type interaction. Applying single-qubit measurements drives the computation forward. The measurement outcomes determine the next steps in the computation. In MBQC, this measuring process, based on the connections, is what actually performs the calculation, without needing direct quantum gates to control each qubit individually during the computation.\n",
    "\n"
   ]
  },
  {
   "cell_type": "code",
   "execution_count": 2,
   "id": "d1548bb1-9e28-43d7-a9f5-c31a1c7d78f8",
   "metadata": {},
   "outputs": [
    {
     "name": "stdout",
     "output_type": "stream",
     "text": [
      "Quantum object: dims=[[2, 2], [2, 2]], shape=(4, 4), type='oper', dtype=CSR, isherm=True\n",
      "Qobj data =\n",
      "[[1. 0. 0. 0.]\n",
      " [0. 1. 0. 0.]\n",
      " [0. 0. 0. 1.]\n",
      " [0. 0. 1. 0.]]\n",
      "Quantum object: dims=[[2, 2], [2, 2]], shape=(4, 4), type='oper', dtype=CSR, isherm=True\n",
      "Qobj data =\n",
      "[[ 1.  0.  0.  0.]\n",
      " [ 0.  1.  0.  0.]\n",
      " [ 0.  0.  1.  0.]\n",
      " [ 0.  0.  0. -1.]]\n"
     ]
    },
    {
     "data": {
      "image/png": "[encoded data removed]",
      "text/plain": [
       "<IPython.core.display.Image object>"
      ]
     },
     "metadata": {},
     "output_type": "display_data"
    },
    {
     "data": {
      "image/png": "[encoded data removed]",
      "text/plain": [
       "<IPython.core.display.Image object>"
      ]
     },
     "metadata": {},
     "output_type": "display_data"
    }
   ],
   "source": [
    "\n",
    "%matplotlib inline\n",
    "from IPython.display import Image\n",
    "\n",
    "from qutip import *\n",
    "from qutip_qip.operations import *\n",
    "from qutip_qip.circuit import QubitCircuit, Gate\n",
    "\n",
    "print(cnot(N=2, control=0, target=1))\n",
    "print(csign(N=2, control=0, target=1))\n",
    "\n",
    "#============CircuitDrawing=====================#\n",
    "q1 = QubitCircuit(2, reverse_states=False)\n",
    "q1.add_gate(\"CNOT\", controls=[0], targets=[1])\n",
    "\n",
    "q2 = QubitCircuit(2, reverse_states=False)\n",
    "q2.add_gate(\"CSIGN\", controls=[0], targets=[1])\n",
    "\n",
    "#print(q1.png())\n",
    "#print(q2.png())\n",
    "\n",
    "display(q1.png)\n",
    "display(q2.png)"
   ]
  },
  {
   "cell_type": "markdown",
   "id": "ca66c231-296b-4719-ab47-13d7f025b7c9",
   "metadata": {},
   "source": [
    "# [Silicon Photonic Quantum Computing towards Large-scale Systems](https://www.youtube.com/watch?v=81_JNyeBagk)\n",
    "\n",
    "### What is __Fusion Based__ QC?\n",
    "\n",
    "Single photons are generated probabilistically via spontaneous 4 wave mixing and send into large multiplexing circuit\n",
    "\n",
    "$\\downarrow$\n",
    "\n",
    "This generates small entangled states, referred to as __\"Resource States\"__\n",
    "\n",
    "$\\downarrow$\n",
    "\n",
    "Send entangled resources directly to a newtork of entangling (entanglement?) measurements, which is called __FUSION__\n",
    "\n",
    "$\\downarrow$\n",
    "\n",
    "Photons are measured and destroyed\n",
    "\n",
    "$\\downarrow$\n",
    "\n",
    "Feed the output of these measurements forward to the next clock cycle.\n",
    "\n",
    "$\\downarrow$\n",
    "\n",
    "Rusn this again and again like a conveyer belt.\n",
    "\n",
    "$\\downarrow$\n",
    "\n",
    "Continuously generate photon in the left and measuring in the right.\n",
    "\n",
    "\n",
    "## 2 Features:\n",
    "\n",
    "__Constant Optical Depth:__ Each photon goes through fixed number of optical components, in a very short life time. This is crucial for avoiding accumulation of the optical loss. Optical loss is responsible for breaking loss threshold.\n",
    "\n",
    "__Coherent Time:__ Can run in principle on coherent computation on 100s of logical qubits for hours or days. Largest entangled state produced physically is of the order of 10s of qubits in size."
   ]
  },
  {
   "cell_type": "code",
   "execution_count": null,
   "id": "8b03b715-3d7e-4058-b086-a497ea565d73",
   "metadata": {},
   "outputs": [],
   "source": []
  }
 ],
 "metadata": {
  "kernelspec": {
   "display_name": "mmhcwq",
   "language": "python",
   "name": "cwq"
  },
  "language_info": {
   "codemirror_mode": {
    "name": "ipython",
    "version": 3
   },
   "file_extension": ".py",
   "mimetype": "text/x-python",
   "name": "python",
   "nbconvert_exporter": "python",
   "pygments_lexer": "ipython3",
   "version": "3.12.0"
  }
 },
 "nbformat": 4,
 "nbformat_minor": 5
}
