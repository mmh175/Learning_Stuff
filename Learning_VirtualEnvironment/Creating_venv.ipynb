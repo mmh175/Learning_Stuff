{
 "cells": [
  {
   "cell_type": "markdown",
   "id": "1967b840-caa5-463f-b267-7f7819b0c41f",
   "metadata": {},
   "source": [
    "# Virtual Environment in __miniconda__"
   ]
  },
  {
   "cell_type": "markdown",
   "id": "f074d971-7b36-4f64-9fe0-c4deebdb6635",
   "metadata": {},
   "source": [
    "\n",
    "- __Step 1__: Initiating the virtual environment by declaring the name (e.g.: myenv) and the version of Python I want to use:\n",
    "\n",
    "  > `conda create -n myenv python=3.12`\n",
    "\n",
    "  Here `-n` means \"_new_\".\n",
    "\n",
    "---\n",
    "\n",
    "- __Step 2__: Go into that environment:\n",
    "\n",
    "  > `conda activate myenv`\n",
    "\n",
    "---\n",
    "\n",
    "- __Step 3__: Install the Jupyter kernel package inside the environment:\n",
    "\n",
    "  > `pip install ipykernel`\n",
    "\n",
    "  This allows the environment to be registered as a Jupyter kernel.\n",
    "\n",
    "---\n",
    "\n",
    "- __Step 4__: Add this environment to Jupyter Notebook as a new kernel:\n",
    "\n",
    "  > `python -m ipykernel install --user --name=myenv --display-name \"Python (myenv)\"`\n",
    "\n",
    "  - `-m` flag in Python stands for _module_.\n",
    "  - `--name` is the internal kernel name.\n",
    "  - `--display-name` is what will show up in the Jupyter interface.\n",
    "\n",
    "---\n",
    "\n",
    "- __Step 5__: Launch Jupyter Notebook (optional):\n",
    "\n",
    "  > `jupyter notebook`\n",
    "\n",
    "  Or, if you're using JupyterLab:\n",
    "\n",
    "  > `jupyter lab`\n",
    "\n",
    "---\n",
    "\n",
    "- __Step 6__: Inside Jupyter, go to the top menu → **Kernel** → **Change Kernel** → select `\"Python (myenv)\"`.\n",
    "\n",
    "---\n",
    "\n",
    "- __Step 7__: Installing a new package:\n",
    "\n",
    "| Use `conda install` when:                                           | Use `pip install` when:                                               |\n",
    "| ------------------------------------------------------------------- | --------------------------------------------------------------------- |\n",
    "| The package is available on Conda (especially `conda-forge`)        | The package is **not available** on Conda                             |\n",
    "| You want better dependency resolution                               | You need the **latest version** not yet in Conda                      |\n",
    "| You're installing binary packages (like `numpy`, `scipy`, `pandas`) | You're installing Python-only packages (e.g. `transformers`, `black`) |\n",
    "\n",
    "---\n"
   ]
  },
  {
   "cell_type": "markdown",
   "id": "bfea7303-663d-42a8-be60-db717c452e8a",
   "metadata": {},
   "source": [
    "# Removing a Virtual Environment"
   ]
  },
  {
   "cell_type": "markdown",
   "id": "ede72e4b-30ee-488a-876c-3a2a98ea628c",
   "metadata": {},
   "source": [
    "- __Step 1__: Get out of conda first:\n",
    "\n",
    "  > `conda deactivate`\n",
    "\n",
    "---\n",
    "\n",
    "- __Step 2__: Remove that particular environment:\n",
    "\n",
    "  > `conda remove --name myenv --all`\n",
    "\n",
    "---"
   ]
  }
 ],
 "metadata": {
  "kernelspec": {
   "display_name": "Python (base)",
   "language": "python",
   "name": "base"
  },
  "language_info": {
   "codemirror_mode": {
    "name": "ipython",
    "version": 3
   },
   "file_extension": ".py",
   "mimetype": "text/x-python",
   "name": "python",
   "nbconvert_exporter": "python",
   "pygments_lexer": "ipython3",
   "version": "3.12.7"
  }
 },
 "nbformat": 4,
 "nbformat_minor": 5
}
