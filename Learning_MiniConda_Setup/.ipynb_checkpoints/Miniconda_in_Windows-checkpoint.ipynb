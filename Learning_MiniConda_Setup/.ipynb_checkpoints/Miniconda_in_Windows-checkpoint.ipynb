{
 "cells": [
  {
   "cell_type": "markdown",
   "id": "d4f79a16-e48b-4303-8276-9ddee377070d",
   "metadata": {},
   "source": [
    "# Miniconda Page\n",
    "\n",
    "https://www.anaconda.com/docs/getting-started/miniconda/main\n",
    "\n",
    "I am going to use Windows Command Prompt to install this. "
   ]
  },
  {
   "cell_type": "markdown",
   "id": "97dc1dd5-9ef7-4903-bb50-46ed1fbb3276",
   "metadata": {},
   "source": [
    "# Installation\n",
    "\n",
    "## Get the .exe installer file:\n",
    "\n",
    "`` curl https://repo.anaconda.com/miniconda/Miniconda3-latest-Windows-x86_64.exe -o .\\miniconda.exe ``\n",
    "\n",
    "- ``curl`` → downloads a file from the internet.\n",
    "- ``-o .\\miniconda.exe`` → saves the downloaded file as miniconda.exe in the current directory (.\\ = here)\n",
    "\n",
    "## Run the installer file:\n",
    "\n",
    "`` start /wait \"\" .\\miniconda.exe /S ``\n",
    "\n",
    "- ``start`` → runs a program.\n",
    "- ``/wait`` → makes the script wait until the installer finishes.\n",
    "- ``\"\"`` → placeholder for a window title (required by start, but left empty).\n",
    "- ``.\\miniconda.exe`` → runs the installer you just downloaded.\n",
    "- ``/S`` → means silent mode install (no user clicks needed, it installs with defaults).\n",
    "\n",
    "## Optinal: Delete the installer file:\n",
    "\n",
    "`` del .\\miniconda.exe ``\n",
    "\n",
    "It removes the installer after installation is complete.   "
   ]
  },
  {
   "cell_type": "markdown",
   "id": "6de86ddc-f03e-4461-926f-266032bf201c",
   "metadata": {},
   "source": [
    "# Add Miniconda to PATH\n",
    "\n",
    "If you want conda to work in any Command Prompt / PowerShell, you’ll need to add Miniconda’s installation folder to PATH manually.\n",
    "\n",
    "1. __How to see the the already existed Environment Variables?__\n",
    "\n",
    "The environment variable that Windows uses to find programs when you type a command (like conda or python) is in PATH. For example, when you use ``git status`` command, the ``git`` is summoned from the PATH. To see all the stuff already in the PATH, use this command on the Command prompt: <br>\n",
    "\n",
    "<code style=\"background-color: black; color: white; padding: 4px 4px; border-radius: 4px;\">  echo %PATH%  </code> <br>\n",
    "\n",
    "this will give us something like:\n",
    "\n",
    "``C:\\WINDOWS\\system32;C:\\WINDOWS;C:\\WINDOWS\\System32\\Wbem;C:\\WINDOWS\\System32\\WindowsPowerShell\\v1.0\\;C:\\WINDOWS\\System32\\OpenSSH\\;C:\\Program Files\\Git\\cmd;C:\\Users\\Mehdi\\AppData\\Local\\Microsoft\\WindowsApps;C:\\Users\\Mehdi\\AppData\\Local\\Programs\\Microsoft VS Code\\bin``\n",
    "\n",
    "OR, for even better visibility: <br>\n",
    "<code style=\"background-color: black; color: white; padding: 4px 4px; border-radius: 4px;\">  for %A in (\"%PATH:;=\" \"%\") do @echo %~A  </code> <br>\n",
    "\n",
    "\n",
    "this will give us something like:\n",
    "\n",
    "``C:\\WINDOWS\\system32``<br>\n",
    "``C:\\WINDOWS``<br>\n",
    "``C:\\WINDOWS\\System32\\Wbem``<br>\n",
    "``C:\\WINDOWS\\System32\\WindowsPowerShell\\v1.0\\``<br>\n",
    "``C:\\WINDOWS\\System32\\OpenSSH\\``<br>\n",
    "``C:\\Program Files\\Git\\cmd``<br>\n",
    "``C:\\Users\\Mehdi\\AppData\\Local\\Microsoft\\WindowsApps``<br>\n",
    "``C:\\Users\\Mehdi\\AppData\\Local\\Programs\\Microsoft VS Code\\bin``<br>\n",
    "\n",
    "2. __How to edit Environment Variables?__\n",
    "\n",
    "- Find the location of Miniconda, e.g:  ``C:\\Users\\<USER>\\AppData\\Local\\miniconda3``\n",
    "- The necessary directories would be:\n",
    "  1. ``C:\\Users\\<USER>\\AppData\\Local\\miniconda3``\n",
    "  2. ``C:\\Users\\<USER>\\AppData\\Local\\miniconda3\\Scripts``\n",
    "  3. ``C:\\Users\\<USER>\\AppData\\Local\\miniconda3\\Library\\bin``\n",
    "  4. ``C:\\Users\\<USER>\\AppData\\Local\\miniconda3\\condabin`` <br><br>\n",
    "\n",
    "\n",
    "   \n",
    "- Copy the list of variables using the ``echo %PATH%`` command and save the list in a Notebook.\n",
    "- Then add/remove the desired one from that list. For example, we need to add conda to the list. The Windows command that creates or modifies environment variables permanently (they stay after you close the terminal or reboot) is ``setx``. We need to do (in one line): <br>\n",
    "<code style=\"background-color: black; color: white; padding: 4px 4px; border-radius: 4px;\"> setx PATH \"C:\\WINDOWS\\system32;C:\\WINDOWS;C:\\WINDOWS\\System32\\Wbem;C:\\WINDOWS\\System32\\WindowsPowerShell\\v1.0\\;C:\\WINDOWS\\System32\\OpenSSH\\;C:\\Program Files\\Git\\cmd;C:\\Users\\Mehdi\\AppData\\Local\\Microsoft\\WindowsApps;C:\\Users\\Mehdi\\AppData\\Local\\Programs\\Microsoft VS Code\\bin;C:\\Users\\<USER>\\AppData\\Local\\miniconda3;C:\\Users\\<USER>\\AppData\\Local\\miniconda3\\Scripts;C:\\Users\\<USER>\\AppData\\Local\\miniconda3\\Library\\bin;C:\\Users\\<USER>\\AppData\\Local\\miniconda3\\condabin</code> <br>\n",
    "i.e., add those manually at the end.\n",
    "- Restart command prompt.\n",
    "- Check with the command <code style=\"background-color: black; color: white; padding: 4px 4px; border-radius: 4px;\">  conda --version  </code> <br>\n"
   ]
  },
  {
   "cell_type": "markdown",
   "id": "7a1e8aa3-47bc-4456-9898-8be23522a4c6",
   "metadata": {},
   "source": [
    "# Installing Necessary Packages\n",
    "\n",
    "One liner:\n",
    "\n",
    "Conda handles compiled binaries, dependencies (MKL, BLAS, etc.) much better than pip. And it avoids version conflicts.\n",
    "\n",
    "<code style=\"background-color: black; color: white; padding: 4px 4px; border-radius: 4px;\">  conda install -c conda-forge numpy pandas matplotlib joblib tqdm  </code> <br>\n",
    "\n",
    "\n",
    "But some packages are only available in ``pip``. To combine such, we can write, for example:\n",
    "\n",
    "<code style=\"background-color: black; color: white; padding: 4px 4px; border-radius: 4px;\">  conda install -c conda-forge numpy pandas matplotlib joblib tqdm -y && pip install pyptu  </code> <br>\n",
    "\n",
    "\n"
   ]
  },
  {
   "cell_type": "code",
   "execution_count": null,
   "id": "a05457d6-865a-4a86-838c-5642f60f8be2",
   "metadata": {},
   "outputs": [],
   "source": []
  }
 ],
 "metadata": {
  "kernelspec": {
   "display_name": "Python 3 (ipykernel)",
   "language": "python",
   "name": "python3"
  },
  "language_info": {
   "codemirror_mode": {
    "name": "ipython",
    "version": 3
   },
   "file_extension": ".py",
   "mimetype": "text/x-python",
   "name": "python",
   "nbconvert_exporter": "python",
   "pygments_lexer": "ipython3",
   "version": "3.12.3"
  }
 },
 "nbformat": 4,
 "nbformat_minor": 5
}
