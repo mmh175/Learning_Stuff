{
 "cells": [
  {
   "cell_type": "markdown",
   "id": "59ad0aef-a23e-42fc-b2bc-de426071cb51",
   "metadata": {},
   "source": [
    "# Qiskit state visualization"
   ]
  },
  {
   "cell_type": "code",
   "execution_count": 1,
   "id": "b7b93304-d794-4cad-bb25-a611f497aa72",
   "metadata": {},
   "outputs": [
    {
     "name": "stdout",
     "output_type": "stream",
     "text": [
      "['AncillaRegister', 'ClassicalRegister', 'MissingOptionalLibraryError', 'QiskitError', 'QuantumCircuit', 'QuantumRegister', '__all__', '__builtins__', '__cached__', '__doc__', '__file__', '__loader__', '__name__', '__package__', '__path__', '__spec__', '__version__', '_accelerate', '_config', '_numpy_compat', '_user_config', 'assemble', 'assembler', 'circuit', 'compiler', 'converters', 'dagcircuit', 'exceptions', 'generate_preset_pass_manager', 'importlib', 'os', 'passmanager', 'providers', 'pulse', 'qiskit', 'qobj', 'quantum_info', 'result', 'schedule', 'scheduler', 'sequence', 'synthesis', 'sys', 'transpile', 'transpiler', 'user_config', 'utils', 'version', 'warnings'] \n",
      "\n",
      "1.2.4\n"
     ]
    }
   ],
   "source": [
    "\n",
    "import qiskit\n",
    "print(dir(qiskit), '\\n')\n",
    "print(qiskit.__version__)\n"
   ]
  },
  {
   "cell_type": "code",
   "execution_count": 2,
   "id": "44a456af-a5fb-46e7-a941-c63ea98cc105",
   "metadata": {},
   "outputs": [
    {
     "name": "stdout",
     "output_type": "stream",
     "text": [
      "['Aer', 'AerError', 'AerJob', 'AerProvider', 'AerSimulator', 'QasmSimulator', 'StatevectorSimulator', 'UnitarySimulator', '__builtins__', '__cached__', '__doc__', '__file__', '__loader__', '__name__', '__package__', '__path__', '__spec__', '__version__', 'aer_compiler', 'aer_simulator', 'aerbackend', 'aererror', 'aerprovider', 'backend_utils', 'backendconfiguration', 'backendproperties', 'backends', 'compatibility', 'controller_wrappers', 'jobs', 'library', 'name_mapping', 'noise', 'platform', 'qasm_simulator', 'quantum_info', 'statevector_simulator', 'sys', 'unitary_simulator', 'utils', 'version', 'warnings'] \n",
      "\n",
      "0.15.1\n"
     ]
    }
   ],
   "source": [
    "\n",
    "import qiskit_aer\n",
    "print(dir(qiskit_aer), '\\n')\n",
    "print(qiskit_aer.__version__)\n"
   ]
  },
  {
   "cell_type": "markdown",
   "id": "4dd7e464-4c27-4852-bd3a-66faafa1bca2",
   "metadata": {},
   "source": [
    "__Drawing a Bell state $\\ket{\\Psi^+}$ producing circuit__ "
   ]
  },
  {
   "cell_type": "code",
   "execution_count": 8,
   "id": "70ce0fa0-8d8a-4cec-9369-401723f827a6",
   "metadata": {},
   "outputs": [
    {
     "name": "stdout",
     "output_type": "stream",
     "text": [
      "     ┌───┐     \n",
      "q_0: ┤ H ├──■──\n",
      "     └───┘┌─┴─┐\n",
      "q_1: ─────┤ X ├\n",
      "          └───┘\n"
     ]
    },
    {
     "data": {
      "image/png": "[encoded data removed]",
      "text/plain": [
       "<Figure size 287.294x200.667 with 1 Axes>"
      ]
     },
     "execution_count": 8,
     "metadata": {},
     "output_type": "execute_result"
    }
   ],
   "source": [
    "\n",
    "from qiskit import QuantumCircuit\n",
    "#from IPython.display import display, Latex, Markdown\n",
    "import matplotlib.pyplot as plt\n",
    "\n",
    "qc = QuantumCircuit(2)\n",
    "qc.h(0)\n",
    "qc.cx(0,1)\n",
    "\n",
    "print(qc.draw(output='text'))\n",
    "qc.draw(output='mpl')\n"
   ]
  },
  {
   "cell_type": "markdown",
   "id": "4d5f344b-08da-435f-a8c8-3c4d820c9239",
   "metadata": {},
   "source": [
    "__Making + Measuring the output__\n",
    "\n",
    "Measurements are done from the end of the branches"
   ]
  },
  {
   "cell_type": "code",
   "execution_count": 12,
   "id": "0cb0490f-5308-496c-bfaa-5e48acdc5c16",
   "metadata": {},
   "outputs": [
    {
     "name": "stdout",
     "output_type": "stream",
     "text": [
      "     ┌───┐     ┌─┐   \n",
      "q_0: ┤ H ├──■──┤M├───\n",
      "     └───┘┌─┴─┐└╥┘┌─┐\n",
      "q_1: ─────┤ X ├─╫─┤M├\n",
      "          └───┘ ║ └╥┘\n",
      "c: 2/═══════════╩══╩═\n",
      "                0  1 \n"
     ]
    },
    {
     "data": {
      "image/png": "[encoded data removed]",
      "text/plain": [
       "<Figure size 454.517x284.278 with 1 Axes>"
      ]
     },
     "execution_count": 12,
     "metadata": {},
     "output_type": "execute_result"
    }
   ],
   "source": [
    "\n",
    "qc_measure = QuantumCircuit(2, 2)\n",
    "\n",
    "qc_measure.h(0)\n",
    "qc_measure.cx(0,1)\n",
    "\n",
    "qc_measure.measure([0, 1], [0, 1])\n",
    "\n",
    "print(qc_measure.draw(output='text'))\n",
    "qc_measure.draw(output='mpl', figsize=)\n"
   ]
  },
  {
   "cell_type": "code",
   "execution_count": null,
   "id": "1d0fc694-59a3-4089-8196-c3267d7f78d2",
   "metadata": {},
   "outputs": [],
   "source": []
  },
  {
   "cell_type": "code",
   "execution_count": null,
   "id": "ea2e8cf5-b8bc-4518-829a-f66e30298e1a",
   "metadata": {},
   "outputs": [],
   "source": []
  },
  {
   "cell_type": "code",
   "execution_count": null,
   "id": "1c12715a-ebea-4372-8abc-0f56096b8f11",
   "metadata": {},
   "outputs": [],
   "source": []
  },
  {
   "cell_type": "code",
   "execution_count": null,
   "id": "ea334b4e-6d0e-40f3-ae40-16d93064edf8",
   "metadata": {},
   "outputs": [],
   "source": []
  },
  {
   "cell_type": "code",
   "execution_count": null,
   "id": "bc4a2e4a-e124-41c1-9bb3-6b987cc06e02",
   "metadata": {},
   "outputs": [],
   "source": []
  },
  {
   "cell_type": "code",
   "execution_count": 14,
   "id": "4c50ba87-3561-4f5d-853e-db8b794a9ab6",
   "metadata": {},
   "outputs": [
    {
     "name": "stdout",
     "output_type": "stream",
     "text": [
      "     ┌───┐     \n",
      "q_0: ┤ H ├──■──\n",
      "     └───┘┌─┴─┐\n",
      "q_1: ─────┤ X ├\n",
      "          └───┘\n"
     ]
    },
    {
     "ename": "MissingOptionalLibraryError",
     "evalue": "\"The 'pdflatex' library is required to use 'LaTeX circuit drawing'.  You will likely need to install a full LaTeX distribution for your system.\"",
     "output_type": "error",
     "traceback": [
      "\u001b[1;31m---------------------------------------------------------------------------\u001b[0m",
      "\u001b[1;31mMissingOptionalLibraryError\u001b[0m               Traceback (most recent call last)",
      "Cell \u001b[1;32mIn[14], line 9\u001b[0m\n\u001b[0;32m      6\u001b[0m qc\u001b[38;5;241m.\u001b[39mcx(\u001b[38;5;241m0\u001b[39m,\u001b[38;5;241m1\u001b[39m)\n\u001b[0;32m      8\u001b[0m \u001b[38;5;28mprint\u001b[39m(qc\u001b[38;5;241m.\u001b[39mdraw(output\u001b[38;5;241m=\u001b[39m\u001b[38;5;124m'\u001b[39m\u001b[38;5;124mtext\u001b[39m\u001b[38;5;124m'\u001b[39m))\n\u001b[1;32m----> 9\u001b[0m \u001b[43mcircuit_drawer\u001b[49m\u001b[43m(\u001b[49m\u001b[43mqc\u001b[49m\u001b[43m,\u001b[49m\u001b[43m \u001b[49m\u001b[43moutput\u001b[49m\u001b[38;5;241;43m=\u001b[39;49m\u001b[38;5;124;43m'\u001b[39;49m\u001b[38;5;124;43mlatex\u001b[39;49m\u001b[38;5;124;43m'\u001b[39;49m\u001b[43m,\u001b[49m\u001b[43m \u001b[49m\u001b[43mscale\u001b[49m\u001b[38;5;241;43m=\u001b[39;49m\u001b[38;5;241;43m0.7\u001b[39;49m\u001b[43m)\u001b[49m\n",
      "File \u001b[1;32mE:\\VirtualEnvironment\\.venv\\Lib\\site-packages\\qiskit\\visualization\\circuit\\circuit_visualization.py:300\u001b[0m, in \u001b[0;36mcircuit_drawer\u001b[1;34m(circuit, scale, filename, style, output, interactive, plot_barriers, reverse_bits, justify, vertical_compression, idle_wires, with_layout, fold, ax, initial_state, cregbundle, wire_order, expr_len)\u001b[0m\n\u001b[0;32m    284\u001b[0m     \u001b[38;5;28;01mreturn\u001b[39;00m _text_circuit_drawer(\n\u001b[0;32m    285\u001b[0m         circuit,\n\u001b[0;32m    286\u001b[0m         filename\u001b[38;5;241m=\u001b[39mfilename,\n\u001b[1;32m   (...)\u001b[0m\n\u001b[0;32m    297\u001b[0m         expr_len\u001b[38;5;241m=\u001b[39mexpr_len,\n\u001b[0;32m    298\u001b[0m     )\n\u001b[0;32m    299\u001b[0m \u001b[38;5;28;01melif\u001b[39;00m output \u001b[38;5;241m==\u001b[39m \u001b[38;5;124m\"\u001b[39m\u001b[38;5;124mlatex\u001b[39m\u001b[38;5;124m\"\u001b[39m:\n\u001b[1;32m--> 300\u001b[0m     image \u001b[38;5;241m=\u001b[39m \u001b[43m_latex_circuit_drawer\u001b[49m\u001b[43m(\u001b[49m\n\u001b[0;32m    301\u001b[0m \u001b[43m        \u001b[49m\u001b[43mcircuit\u001b[49m\u001b[43m,\u001b[49m\n\u001b[0;32m    302\u001b[0m \u001b[43m        \u001b[49m\u001b[43mfilename\u001b[49m\u001b[38;5;241;43m=\u001b[39;49m\u001b[43mfilename\u001b[49m\u001b[43m,\u001b[49m\n\u001b[0;32m    303\u001b[0m \u001b[43m        \u001b[49m\u001b[43mscale\u001b[49m\u001b[38;5;241;43m=\u001b[39;49m\u001b[43mscale\u001b[49m\u001b[43m,\u001b[49m\n\u001b[0;32m    304\u001b[0m \u001b[43m        \u001b[49m\u001b[43mstyle\u001b[49m\u001b[38;5;241;43m=\u001b[39;49m\u001b[43mstyle\u001b[49m\u001b[43m,\u001b[49m\n\u001b[0;32m    305\u001b[0m \u001b[43m        \u001b[49m\u001b[43mplot_barriers\u001b[49m\u001b[38;5;241;43m=\u001b[39;49m\u001b[43mplot_barriers\u001b[49m\u001b[43m,\u001b[49m\n\u001b[0;32m    306\u001b[0m \u001b[43m        \u001b[49m\u001b[43mreverse_bits\u001b[49m\u001b[38;5;241;43m=\u001b[39;49m\u001b[43mreverse_bits\u001b[49m\u001b[43m,\u001b[49m\n\u001b[0;32m    307\u001b[0m \u001b[43m        \u001b[49m\u001b[43mjustify\u001b[49m\u001b[38;5;241;43m=\u001b[39;49m\u001b[43mjustify\u001b[49m\u001b[43m,\u001b[49m\n\u001b[0;32m    308\u001b[0m \u001b[43m        \u001b[49m\u001b[43midle_wires\u001b[49m\u001b[38;5;241;43m=\u001b[39;49m\u001b[43midle_wires\u001b[49m\u001b[43m,\u001b[49m\n\u001b[0;32m    309\u001b[0m \u001b[43m        \u001b[49m\u001b[43mwith_layout\u001b[49m\u001b[38;5;241;43m=\u001b[39;49m\u001b[43mwith_layout\u001b[49m\u001b[43m,\u001b[49m\n\u001b[0;32m    310\u001b[0m \u001b[43m        \u001b[49m\u001b[43minitial_state\u001b[49m\u001b[38;5;241;43m=\u001b[39;49m\u001b[43minitial_state\u001b[49m\u001b[43m,\u001b[49m\n\u001b[0;32m    311\u001b[0m \u001b[43m        \u001b[49m\u001b[43mcregbundle\u001b[49m\u001b[38;5;241;43m=\u001b[39;49m\u001b[43mcregbundle\u001b[49m\u001b[43m,\u001b[49m\n\u001b[0;32m    312\u001b[0m \u001b[43m        \u001b[49m\u001b[43mwire_order\u001b[49m\u001b[38;5;241;43m=\u001b[39;49m\u001b[43mcomplete_wire_order\u001b[49m\u001b[43m,\u001b[49m\n\u001b[0;32m    313\u001b[0m \u001b[43m    \u001b[49m\u001b[43m)\u001b[49m\n\u001b[0;32m    314\u001b[0m \u001b[38;5;28;01melif\u001b[39;00m output \u001b[38;5;241m==\u001b[39m \u001b[38;5;124m\"\u001b[39m\u001b[38;5;124mlatex_source\u001b[39m\u001b[38;5;124m\"\u001b[39m:\n\u001b[0;32m    315\u001b[0m     \u001b[38;5;28;01mreturn\u001b[39;00m _generate_latex_source(\n\u001b[0;32m    316\u001b[0m         circuit,\n\u001b[0;32m    317\u001b[0m         filename\u001b[38;5;241m=\u001b[39mfilename,\n\u001b[1;32m   (...)\u001b[0m\n\u001b[0;32m    327\u001b[0m         wire_order\u001b[38;5;241m=\u001b[39mcomplete_wire_order,\n\u001b[0;32m    328\u001b[0m     )\n",
      "File \u001b[1;32mE:\\VirtualEnvironment\\.venv\\Lib\\site-packages\\qiskit\\utils\\lazy_tester.py:148\u001b[0m, in \u001b[0;36mLazyDependencyManager.require_in_call.<locals>.decorator.<locals>.out\u001b[1;34m(*args, **kwargs)\u001b[0m\n\u001b[0;32m    146\u001b[0m \u001b[38;5;129m@functools\u001b[39m\u001b[38;5;241m.\u001b[39mwraps(function)\n\u001b[0;32m    147\u001b[0m \u001b[38;5;28;01mdef\u001b[39;00m \u001b[38;5;21mout\u001b[39m(\u001b[38;5;241m*\u001b[39margs, \u001b[38;5;241m*\u001b[39m\u001b[38;5;241m*\u001b[39mkwargs):\n\u001b[1;32m--> 148\u001b[0m     \u001b[38;5;28;43mself\u001b[39;49m\u001b[38;5;241;43m.\u001b[39;49m\u001b[43mrequire_now\u001b[49m\u001b[43m(\u001b[49m\u001b[43mfeature\u001b[49m\u001b[43m)\u001b[49m\n\u001b[0;32m    149\u001b[0m     \u001b[38;5;28;01mreturn\u001b[39;00m function(\u001b[38;5;241m*\u001b[39margs, \u001b[38;5;241m*\u001b[39m\u001b[38;5;241m*\u001b[39mkwargs)\n",
      "File \u001b[1;32mE:\\VirtualEnvironment\\.venv\\Lib\\site-packages\\qiskit\\utils\\lazy_tester.py:221\u001b[0m, in \u001b[0;36mLazyDependencyManager.require_now\u001b[1;34m(self, feature)\u001b[0m\n\u001b[0;32m    219\u001b[0m \u001b[38;5;28;01mif\u001b[39;00m \u001b[38;5;28mself\u001b[39m:\n\u001b[0;32m    220\u001b[0m     \u001b[38;5;28;01mreturn\u001b[39;00m\n\u001b[1;32m--> 221\u001b[0m \u001b[38;5;28;01mraise\u001b[39;00m MissingOptionalLibraryError(\n\u001b[0;32m    222\u001b[0m     libname\u001b[38;5;241m=\u001b[39m\u001b[38;5;28mself\u001b[39m\u001b[38;5;241m.\u001b[39m_name, name\u001b[38;5;241m=\u001b[39mfeature, pip_install\u001b[38;5;241m=\u001b[39m\u001b[38;5;28mself\u001b[39m\u001b[38;5;241m.\u001b[39m_install, msg\u001b[38;5;241m=\u001b[39m\u001b[38;5;28mself\u001b[39m\u001b[38;5;241m.\u001b[39m_msg\n\u001b[0;32m    223\u001b[0m )\n",
      "\u001b[1;31mMissingOptionalLibraryError\u001b[0m: \"The 'pdflatex' library is required to use 'LaTeX circuit drawing'.  You will likely need to install a full LaTeX distribution for your system.\""
     ]
    }
   ],
   "source": [
    "from qiskit import QuantumCircuit\n",
    "from qiskit.visualization import circuit_drawer\n",
    "\n",
    "qc = QuantumCircuit(2)\n",
    "qc.h(0)\n",
    "qc.cx(0,1)\n",
    "\n",
    "print(qc.draw(output='text'))\n",
    "circuit_drawer(qc, output='latex', scale=0.7)"
   ]
  },
  {
   "cell_type": "code",
   "execution_count": null,
   "id": "877a13c2-01b8-4392-9e51-880fcbbdff11",
   "metadata": {},
   "outputs": [],
   "source": [
    "\n",
    "from qiskit.quantum_info import Pauli\n",
    "\n",
    "ZZ = Pauli('ZZ')\n",
    "ZI = Pauli('ZI')\n",
    "IZ = Pauli('IZ')\n",
    "XX = Pauli('XX')\n",
    "XI = Pauli('XI')\n",
    "IX = Pauli('IX')\n",
    "\n",
    "observables = [ZZ, ZI, IZ, XX, XI, IX]\n"
   ]
  },
  {
   "cell_type": "code",
   "execution_count": null,
   "id": "42d2a7d0-ea8f-4676-961b-f6bc69c46234",
   "metadata": {},
   "outputs": [],
   "source": [
    "\n",
    "import numpy as np\n",
    "import matplotlib\n",
    "from qiskit.visualization import plot_bloch_vector\n",
    "\n",
    "state_cartesian = [0, 0, 1]\n",
    "\n",
    "plot_bloch_vector(state_cartesian, figsize=(3, 3))\n"
   ]
  },
  {
   "cell_type": "code",
   "execution_count": null,
   "id": "50e70912-ce66-41fe-af66-23e34f585a62",
   "metadata": {},
   "outputs": [],
   "source": [
    "qiskit.__version__"
   ]
  },
  {
   "cell_type": "code",
   "execution_count": null,
   "id": "41c62f48-629e-482f-ba29-b5c3208b267e",
   "metadata": {},
   "outputs": [],
   "source": [
    "\n",
    "import numpy \n",
    "import matplotlib.pyplot as plt\n",
    "import pylatexenc\n",
    "from qutip import (about, basis, propagator, qeye, qpt, qpt_plot_combined, \n",
    "                   sigmam, sigmax, sigmay, sigmaz, spost, spre, tensor)\n",
    "from qiskit import QuantumCircuit\n"
   ]
  },
  {
   "cell_type": "markdown",
   "id": "efcb55b9-91ac-447f-b5d4-e1f3613f85c1",
   "metadata": {},
   "source": [
    "__Visualize a single state vector in the bloch sphere__"
   ]
  },
  {
   "cell_type": "code",
   "execution_count": null,
   "id": "9cacf2a1-8f6a-40af-89b8-3102b65e942f",
   "metadata": {},
   "outputs": [],
   "source": []
  },
  {
   "cell_type": "markdown",
   "id": "4839f141-1aa7-46fb-8495-18802c0c3aea",
   "metadata": {},
   "source": [
    "\n",
    "__Plot multiple vectors in Bloch sphere for each qubit in a circuit__\n"
   ]
  },
  {
   "cell_type": "code",
   "execution_count": null,
   "id": "f81b26b3-6e3f-4e09-80db-c3e9aff5ef12",
   "metadata": {},
   "outputs": [],
   "source": [
    "\n",
    "from qiskit import QuantumCircuit\n",
    "from qiskit.quantum_info import Statevector\n",
    "from qiskit.visualization import plot_bloch_multivector\n",
    "import matplotlib.pyplot as plt\n",
    "plt.rcParams.update({'font.size': 24})\n",
    "\n",
    "# Create a 4-qubit quantum circuit\n",
    "qc = QuantumCircuit(4)\n",
    "\n",
    "figures = []  \n",
    "\n",
    "# Initial state plot\n",
    "state = Statevector(qc)\n",
    "figures.append(plot_bloch_multivector(state, figsize=(10,10))) \n",
    "\n",
    "qc.h(0)\n",
    "qc.x(1)\n",
    "qc.y(2)\n",
    "qc.z(3)\n",
    "\n",
    "state = Statevector(qc)\n",
    "figures.append(plot_bloch_multivector(state, figsize=(10,10)))  \n",
    "\n",
    "display(figures) \n"
   ]
  },
  {
   "cell_type": "markdown",
   "id": "5f4300ab-f39b-47ac-86be-dd34c59db0ca",
   "metadata": {},
   "source": [
    "__3D interactive object__"
   ]
  },
  {
   "cell_type": "code",
   "execution_count": null,
   "id": "c16db821-6414-4519-b34a-a7852144b936",
   "metadata": {},
   "outputs": [],
   "source": [
    "import numpy as np\n",
    "import plotly.graph_objects as go\n",
    "\n",
    "bloch_vector = [0, 0, 1]  \n",
    "\n",
    "fig = go.Figure()\n",
    "\n",
    "# Draw the sphere's surface\n",
    "u, v = np.mgrid[0:2 * np.pi:100j, 0:np.pi:50j]\n",
    "x = np.sin(v) * np.cos(u)\n",
    "y = np.sin(v) * np.sin(u)\n",
    "z = np.cos(v)\n",
    "\n",
    "fig.add_trace(go.Surface(x=x, y=y, z=z, opacity=0.3, colorscale='Blues'))\n",
    "\n",
    "# Add the Bloch vector\n",
    "fig.add_trace(go.Scatter3d(\n",
    "    x=[0, bloch_vector[0]],\n",
    "    y=[0, bloch_vector[1]],\n",
    "    z=[0, bloch_vector[2]],\n",
    "    marker=dict(size=4, color='red'),\n",
    "    line=dict(color='red', width=5),\n",
    "    name='Bloch Vector'\n",
    "))\n",
    "\n",
    "# Update layout for better visualization\n",
    "fig.update_layout(\n",
    "    title=\"Interactive Bloch Sphere\",\n",
    "    scene=dict(\n",
    "        xaxis=dict(nticks=8, range=[-1, 1]),\n",
    "        yaxis=dict(nticks=8, range=[-1, 1]),\n",
    "        zaxis=dict(nticks=8, range=[-1, 1]),\n",
    "    ),\n",
    "    margin=dict(r=20, l=10, b=10, t=10)\n",
    ")\n",
    "\n",
    "# Display the interactive Bloch sphere\n",
    "fig.show()\n",
    "\n",
    "# Save the interactive plot as HTML\n",
    "fig.write_html(\"interactive_bloch_sphere.html\")\n",
    "\n"
   ]
  },
  {
   "cell_type": "code",
   "execution_count": null,
   "id": "c80bd283-abf8-4097-935e-de405161db18",
   "metadata": {},
   "outputs": [],
   "source": [
    "%matplotlib ipyml\n",
    "\n",
    "from qiskit import QuantumCircuit\n",
    "from qiskit.quantum_info import Statevector\n",
    "from qiskit.visualization import plot_bloch_multivector\n",
    "import matplotlib.pyplot as plt\n",
    "\n",
    "# Create a 2-qubit quantum circuit\n",
    "qc = QuantumCircuit(2)\n",
    "\n",
    "# Apply some gates\n",
    "qc.h(0)\n",
    "qc.x(1)\n",
    "\n",
    "# Generate the statevector\n",
    "state = Statevector(qc)\n",
    "\n",
    "# Plot the Bloch multivector interactively\n",
    "fig = plot_bloch_multivector(state)\n",
    "plt.show()"
   ]
  },
  {
   "cell_type": "markdown",
   "id": "fbad6755-a6f7-40c0-ac32-2256be0b4913",
   "metadata": {},
   "source": [
    "__SWAP Gate__\n",
    "\n",
    "The SWAP gate simply swaps the two qubits:\n",
    "\n",
    "`SWAP` $\\ket{00} = \\ket{00}$ <br>\n",
    "`SWAP` $\\ket{01} = \\ket{10}$ <br>\n",
    "`SWAP` $\\ket{10} = \\ket{01}$ <br>\n",
    "`SWAP` $\\ket{11} = \\ket{11}$ <br>\n",
    "\n",
    "STEP:\n",
    "1. Learn how to create $\\ket{00}$ in `QuTip` and `Qiskit`.\n",
    "2. Learn to draw it.\n",
    "3. Apply the `SWAP` gate on different states\n",
    "\n",
    "__1. Create $\\ket{00}$ in `Qiskit`__   \n",
    "You can see the corresponding circuit, position of qubits in bloch sphere"
   ]
  },
  {
   "cell_type": "code",
   "execution_count": null,
   "id": "795acd59-44d1-4ed9-93a2-6a3004317b0c",
   "metadata": {},
   "outputs": [],
   "source": [
    "\n",
    "%matplotlib inline\n",
    "from qiskit import QuantumCircuit\n",
    "from qiskit.quantum_info import Statevector\n",
    "from qiskit.visualization import plot_bloch_multivector\n",
    "#======================================================\n",
    "\n",
    "qc    = QuantumCircuit(2)\n",
    "state = Statevector.from_int(0, dims=[2, 2])\n"
   ]
  }
 ],
 "metadata": {
  "kernelspec": {
   "display_name": "Python 3 (ipykernel)",
   "language": "python",
   "name": "python3"
  },
  "language_info": {
   "codemirror_mode": {
    "name": "ipython",
    "version": 3
   },
   "file_extension": ".py",
   "mimetype": "text/x-python",
   "name": "python",
   "nbconvert_exporter": "python",
   "pygments_lexer": "ipython3",
   "version": "3.12.7"
  }
 },
 "nbformat": 4,
 "nbformat_minor": 5
}
