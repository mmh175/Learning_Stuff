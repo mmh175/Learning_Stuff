{
 "cells": [
  {
   "cell_type": "code",
   "execution_count": 1,
   "id": "41c62f48-629e-482f-ba29-b5c3208b267e",
   "metadata": {},
   "outputs": [],
   "source": [
    "\n",
    "import numpy\n",
    "import matplotlib.pyplot as plt\n",
    "import pylatexenc\n",
    "from qutip import (about, basis, propagator, qeye, qpt, qpt_plot_combined, \n",
    "                   sigmam, sigmax, sigmay, sigmaz, spost, spre, tensor)\n",
    "from qiskit import QuantumCircuit\n"
   ]
  },
  {
   "cell_type": "markdown",
   "id": "fbad6755-a6f7-40c0-ac32-2256be0b4913",
   "metadata": {},
   "source": [
    "__SWAP Gate__\n",
    "\n",
    "The SWAP gate simply swaps the two qubits:\n",
    "\n",
    "`SWAP` $\\ket{00} = \\ket{00}$ <br>\n",
    "`SWAP` $\\ket{01} = \\ket{10}$ <br>\n",
    "`SWAP` $\\ket{10} = \\ket{01}$ <br>\n",
    "`SWAP` $\\ket{11} = \\ket{11}$ <br>\n",
    "\n",
    "STEP:\n",
    "1. Learn how to create $\\ket{00}$ in `QuTip` and `Qiskit`.\n",
    "2. Learn to draw it.\n",
    "3. Apply the `SWAP` gate on different states\n",
    "\n",
    "__1. Create $\\ket{00}$ in `Qiskit`__   "
   ]
  },
  {
   "cell_type": "code",
   "execution_count": null,
   "id": "795acd59-44d1-4ed9-93a2-6a3004317b0c",
   "metadata": {},
   "outputs": [],
   "source": [
    "\n",
    "%matplotlib inline\n",
    "from qiskit import QuantumCircuit\n",
    "from qiskit.quantum_info import Statevector\n",
    "from qiskit.visualization import plot_bloch_multivector\n",
    "#======================================================\n",
    "\n",
    "qc    = QuantumCircuit(2)\n",
    "state = Statevector.from_int(0, dims=[2, 2])\n"
   ]
  }
 ],
 "metadata": {
  "kernelspec": {
   "display_name": "Python (myenv)",
   "language": "python",
   "name": "myenv"
  },
  "language_info": {
   "codemirror_mode": {
    "name": "ipython",
    "version": 3
   },
   "file_extension": ".py",
   "mimetype": "text/x-python",
   "name": "python",
   "nbconvert_exporter": "python",
   "pygments_lexer": "ipython3",
   "version": "3.12.3"
  }
 },
 "nbformat": 4,
 "nbformat_minor": 5
}
