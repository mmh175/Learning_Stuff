{
 "cells": [
  {
   "cell_type": "markdown",
   "id": "eca3a3ec-24b1-4961-ae25-ff5fba5a1264",
   "metadata": {},
   "source": [
    "# Cloning the repositories to your PC\n",
    "\n",
    "__General Knowledge__\n",
    "\n",
    "Your laptop/pc drive is the __local repository__ and the GitHub website domain is the __remote repository__. You __push__ from local to remote:<br>\n",
    "`git push origin main` <br><br>\n",
    "and __pull__ from remote to local:<br>\n",
    "`git pull origin main` <br><br>\n",
    "\n",
    "Here, `origin` means the original repo (no change in the name) and `main` is the __branch__ where the file is located.\n",
    "To check the branch:<br>\n",
    "`git branch` <br><br>\n"
   ]
  },
  {
   "cell_type": "markdown",
   "id": "21329068-8eb6-457d-9918-aa78aa098959",
   "metadata": {},
   "source": [
    "## Public Repo\n",
    "\n",
    "If the repository is __public__, the process is stright forward: \n",
    "\n",
    "1. Suppose, the link of a __public__ repository is: <br>`https://github.com/mmh175/SPDC` <br><br>\n",
    "2. You want to clone it to your laptop/pc in the directory: <br>`/Desktop/GitHub`. <br><br> \n",
    "3. You first go to that directory:<br> `cd ~/Desktop/GitHub` <br><br>\n",
    "4. Then use the command:<br> `git clone https://github.com/mmh175/SPDC.git` <br><br>\n",
    "\n",
    "\n",
    "## Private Repo\n",
    "\n",
    "If the repository is __public__, you need to know the __Token__\n",
    "\n",
    "1. Suppose, the link of a __private__ repository is: <br>`https://github.com/mmh175/QUEST` <br><br> \n",
    "2. You have to embed the __Token__ with the link: <br> git clone https://<span style=\"color: blue;\">token</span>@github.com/mmh175/QUEST.git <br><br>\n",
    "3. Example: If __`token`__ = ghp_abcdef7RSwuHi7jZziebVY1DkPwg  : <br>\n",
    "`git clone https://ghp_abcdef7RSwuHi7jZziebVY1DkPwg@github.com/mmh175/QUEST.git` <br><br>\n"
   ]
  },
  {
   "cell_type": "markdown",
   "id": "f8158076-66e5-4f13-a669-7ab7a87e3dcd",
   "metadata": {},
   "source": [
    "# Adding a new file to a clonned folder"
   ]
  },
  {
   "cell_type": "markdown",
   "id": "09384d83-1b9f-4500-ae87-cc7dac3b3cc1",
   "metadata": {},
   "source": [
    "\n",
    "1. Suppose, the original clonned folder had only one sub folder:<br>\n",
    "`mehdi@mehdi-X1-Carbon:~/Desktop/GitHub/Learning_Stuff$ ls -a`<br>\n",
    "`.  ..  .git  Learning_QComp  README.md `  <br><br>\n",
    "2. Now, there is a new folder added, named: `Learning_GitHub` :<br>\n",
    "`mehdi@mehdi-X1-Carbon:~/Desktop/GitHub/Learning_Stuff$ ls -a` <br>\n",
    "`.  ..  .git  Learning_GitHub  Learning_QComp  README.md`.  <br><br>\n",
    "3. We first get confirmation about any change by the `git status` command. It will show some __untracked file(s)__. <br><br>\n",
    "4.  Remember that, you need to make command from the repository directory. In this case, our repository is __Learning_Stuff__. So, the command line should start like: `mehdi@mehdi-X1-Carbon:~/Desktop/GitHub/Learning_Stuff$`. Then add the new folder by applying: <br>\n",
    "`git add Learning_Github/`.<br> __Example:__ `mehdi@mehdi-X1-Carbon:~/Desktop/GitHub/Learning_Stuff$ git add Learning_GitHub/`<br><br>\n",
    "5. The commit, by using: <br>\n",
    "`git commit -m \"Added Learning_GitHub folder\"` <br><br>\n",
    "6. Finally, push the new content by:<br>\n",
    "`git push origin main` <br><br>\n"
   ]
  },
  {
   "cell_type": "markdown",
   "id": "f018aed4-950b-43ce-97b4-0c4242d18d54",
   "metadata": {},
   "source": [
    "# Modifying an existing file"
   ]
  },
  {
   "cell_type": "markdown",
   "id": "1294a070-3c0f-48a7-a594-5e9193b02b14",
   "metadata": {},
   "source": [
    "There is no difference between adding a new file and updating a modified file. Steps are the same<br><br>\n",
    "`git add <file>/<folder>` <br>\n",
    "`git commit -m \"Message\"` <br>\n",
    "`git push origin main`"
   ]
  }
 ],
 "metadata": {
  "kernelspec": {
   "display_name": "Python (myenv)",
   "language": "python",
   "name": "myenv"
  },
  "language_info": {
   "codemirror_mode": {
    "name": "ipython",
    "version": 3
   },
   "file_extension": ".py",
   "mimetype": "text/x-python",
   "name": "python",
   "nbconvert_exporter": "python",
   "pygments_lexer": "ipython3",
   "version": "3.12.3"
  }
 },
 "nbformat": 4,
 "nbformat_minor": 5
}
