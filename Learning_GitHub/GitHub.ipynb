{
 "cells": [
  {
   "cell_type": "markdown",
   "id": "eca3a3ec-24b1-4961-ae25-ff5fba5a1264",
   "metadata": {},
   "source": [
    "# Cloning the repositories to your PC\n"
   ]
  },
  {
   "cell_type": "markdown",
   "id": "21329068-8eb6-457d-9918-aa78aa098959",
   "metadata": {},
   "source": [
    "## Public Repo\n",
    "\n",
    "If the repository is __public__, the process is stright forward: \n",
    "\n",
    "1. Suppose, the link of a __public__ repository is: <br>`https://github.com/mmh175/SPDC` <br><br>\n",
    "2. You want to clone it to your laptop/pc in the directory: <br>`/Desktop/GitHub`. <br><br> \n",
    "3. You first go to that directory:<br> `cd ~/Desktop/GitHub` <br><br>\n",
    "4. Then use the command:<br> `git clone https://github.com/mmh175/SPDC.git` <br><br>\n",
    "\n",
    "\n",
    "## Private Repo\n",
    "\n",
    "If the repository is __public__, you need to know the __Token__\n",
    "\n",
    "1. Suppose, the link of a __private__ repository is: <br>`https://github.com/mmh175/QUEST` <br><br> \n",
    "2. You have to embed the __Token__ with the link: <br> git clone https://<span style=\"color: blue;\">token</span>@github.com/mmh175/QUEST.git <br><br>\n",
    "3. Example: If __`token`__ = ghp_abcdef7RSwuHi7jZziebVY1DkPwg  : <br>\n",
    "`git clone https://ghp_abcdef7RSwuHi7jZziebVY1DkPwg@github.com/mmh175/QUEST.git` <br><br>\n"
   ]
  },
  {
   "cell_type": "markdown",
   "id": "f8158076-66e5-4f13-a669-7ab7a87e3dcd",
   "metadata": {},
   "source": [
    "# Adding a new file to a clonned folder"
   ]
  }
 ],
 "metadata": {
  "kernelspec": {
   "display_name": "Python (myenv)",
   "language": "python",
   "name": "myenv"
  },
  "language_info": {
   "codemirror_mode": {
    "name": "ipython",
    "version": 3
   },
   "file_extension": ".py",
   "mimetype": "text/x-python",
   "name": "python",
   "nbconvert_exporter": "python",
   "pygments_lexer": "ipython3",
   "version": "3.12.3"
  }
 },
 "nbformat": 4,
 "nbformat_minor": 5
}
